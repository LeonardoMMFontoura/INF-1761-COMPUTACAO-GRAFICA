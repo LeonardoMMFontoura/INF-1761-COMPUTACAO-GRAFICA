{
 "cells": [
  {
   "cell_type": "code",
   "execution_count": 1,
   "metadata": {},
   "outputs": [
    {
     "name": "stdout",
     "output_type": "stream",
     "text": [
      "2.220446049250313e-16\n"
     ]
    }
   ],
   "source": [
    "import numpy as np\n",
    "import matplotlib.pyplot as plt\n",
    "from math import sin, cos, sqrt\n",
    "import sys\n",
    "\n",
    "TOL = sys.float_info.epsilon\n",
    "print(TOL)"
   ]
  },
  {
   "cell_type": "code",
   "execution_count": 2,
   "metadata": {},
   "outputs": [],
   "source": [
    "def vetor(x,y,z):\n",
    "    return np.array([x,y,z],dtype=np.float64)\n",
    "\n",
    "def ang(v1,v2):\n",
    "    num = dot(v1,v2)\n",
    "    den = norm(v1)*norm(v2)\n",
    "    return np.arccos(num/den)*180/np.pi if den>TOL else 0\n",
    "\n",
    "def norma(v):\n",
    "    return sqrt(v[0]*v[0]+v[1]*v[1]+v[2]*v[2])\n",
    "\n",
    "def unitario(v):\n",
    "    s = norma(v)\n",
    "    if (s>TOL):\n",
    "        return v/s\n",
    "    else:\n",
    "        return None\n",
    "def dot(u,v):\n",
    "    return u[0]*v[0]+u[1]*v[1]+u[2]*v[2]\n",
    "\n",
    "def reflete(v,n):\n",
    "    r = 2*dot(v,n)*n-v\n",
    "    return r\n",
    "\n",
    "def cross(u,v):\n",
    "    return vetor( u[1]*v[2] - u[2]*v[1] , u[2]*v[0] - u[0]*v[2] , u[0]*v[1] - u[1]*v[0])"
   ]
  },
  {
   "cell_type": "code",
   "execution_count": 3,
   "metadata": {},
   "outputs": [],
   "source": [
    "class Camera:\n",
    "    def __init__(self,fov,w,h,dfocal,eye,at,up):\n",
    "        self.fov = fov\n",
    "        self.w = w\n",
    "        self.h = h\n",
    "        self.dfocal = dfocal\n",
    "        self.a = 2*dfocal*np.tan(fov*np.pi/360)\n",
    "        self.b = self.a*w/h\n",
    "        self.eye = eye\n",
    "        self.ze = unitario(at-eye)\n",
    "        self.xe = unitario(cross(self.ze,up))\n",
    "        self.ye = cross(self.ze,self.xe)\n",
    "        self.img = np.full((h,w,3),0.43,dtype=np.float64)\n",
    "        \n",
    "    def show(self):\n",
    "        print(\"CAMERA\")\n",
    "        print(f'fov={self.fov}, d={self.dfocal}')\n",
    "        print(f'(w,h)=({self.w},{self.h})')\n",
    "        print(f'(b,a)=({self.b},{self.a})')\n",
    "        print(f'xe={self.xe}')\n",
    "        print(f'ye={self.ye}')\n",
    "        print(f'ze={self.ze}')\n",
    "\n",
    "    def ray_to(self,x,y):\n",
    "        dx = self.b*(x/self.w-0.5)\n",
    "        dy = self.a*(y/self.h-0.5)\n",
    "        dz = self.dfocal\n",
    "        ray = dx*self.xe+dy*self.ye+dz*self.ze\n",
    "        return ray\n",
    "\n",
    "    def get_eye(self):\n",
    "        return self.eye\n",
    "\n",
    "    def get_pixel(self,x,y):\n",
    "        return self.img[y,x,:]\n",
    "\n",
    "    def set_pixel(self,x,y,rgb):\n",
    "        self.img[y,x,:]=rgb\n",
    "\n",
    "    def add_pixel(self,x,y,rgb):\n",
    "        self.img[y,x,:]+=rgb\n",
    "\n",
    "    def get_w(self):\n",
    "        return self.w\n",
    "\n",
    "    def get_h(self):\n",
    "        return self.h\n",
    "\n",
    "    def imshow(self):\n",
    "        img_max = np.amax(self.img)\n",
    "        if img_max < TOL:\n",
    "            print(\"Imagem Zerada\")\n",
    "        self.img = self.img/img_max\n",
    "        plt.imshow(self.img)\n",
    "        plt.show()\n",
    "    "
   ]
  },
  {
   "cell_type": "code",
   "execution_count": 4,
   "metadata": {},
   "outputs": [],
   "source": [
    "class Poligono:\n",
    "    def __init__(self,pp,pn,material):\n",
    "        self.pp=pp\n",
    "        self.pn=pn\n",
    "        self.ni=None\n",
    "        self.material=material\n",
    "\n",
    "    def show(self):\n",
    "        for i in range(len(self.pp)):\n",
    "            print(f'plano{i}: ponto={self.pp[i]}, normal={self.pn[i]}')\n",
    "    \n",
    "    def intercepta(self,origem,direcao):\n",
    "        te=0\n",
    "        ts=np.inf\n",
    "        obji=None\n",
    "        return te,obji\n",
    "        for i in range(len(self.pp)):\n",
    "            pn = self.pn[i]\n",
    "            pp = self.pp[i]\n",
    "            num = dot(pp-origem,pn)\n",
    "            den = dot(direcao,pn)\n",
    "            if den<-TOL:\n",
    "                t = num/den\n",
    "                if t>te:\n",
    "                    te=t\n",
    "                    obji=self\n",
    "                    self.ni= pn\n",
    "            elif den>TOL:\n",
    "                t = num/den\n",
    "                ts = t if t<ts else ts\n",
    "            if ts<te:\n",
    "                te = np.inf\n",
    "                obji = None\n",
    "                break\n",
    "        return te,obji\n",
    "    \n",
    "    def get_material(self):\n",
    "        return self.material\n",
    "    \n",
    "    def normal(self,ponto):\n",
    "        return self.ni"
   ]
  },
  {
   "cell_type": "code",
   "execution_count": 5,
   "metadata": {},
   "outputs": [],
   "source": [
    "class Caixa(Poligono):\n",
    "    def __init__(self,pmin,pmax,material):\n",
    "        super().__init__( [pmin,pmin,pmin,pmax,pmax,pmax],\n",
    "                         [vetor(-1,0,0),vetor(0,-1,0),vetor(0,0,-1),\n",
    "                         vetor(1,0,0),vetor(0,1,0),vetor(0,0,1)], material )\n",
    "        "
   ]
  },
  {
   "cell_type": "code",
   "execution_count": 6,
   "metadata": {},
   "outputs": [],
   "source": [
    "class Esfera:\n",
    "    def __init__(self,raio,centro,material):\n",
    "        self.raio = raio\n",
    "        self.centro = centro\n",
    "        self.material = material\n",
    "        \n",
    "    def show(self):\n",
    "        print(\"Esfera\")\n",
    "        print(f' raio={self.raio}')\n",
    "        print(f' centro={self.centro}')\n",
    "        self.material.show()\n",
    "        \n",
    "    def intercepta(self,origem,direcao):\n",
    "        a = dot(direcao,direcao)\n",
    "        b = 2*dot(direcao,origem-self.centro)\n",
    "        c = dot(origem-self.centro,origem-self.centro)-self.raio**2\n",
    "        delta = b**2 - 4*a*c\n",
    "        if delta>TOL:\n",
    "            raiz = sqrt(delta)\n",
    "            t1 = (-b-raiz)/(2*a)\n",
    "            t2 = (-b+raiz)/(2*a)\n",
    "            t = t1 if t1<t2 else t2\n",
    "            if t>0:\n",
    "                return t,self\n",
    "            else:\n",
    "                return np.inf, None\n",
    "        else:\n",
    "            return np.inf, None\n",
    "        \n",
    "    def normal(self,ponto):\n",
    "        return (ponto - self.centro)/self.raio\n",
    "    \n",
    "    def get_material(self):\n",
    "        return self.material"
   ]
  },
  {
   "cell_type": "code",
   "execution_count": 7,
   "metadata": {},
   "outputs": [],
   "source": [
    "class Material:\n",
    "    def __init__(self,kd,ks,ns,espelhamento,opacidade,textura):\n",
    "        self.kd=kd\n",
    "        self.ks=ks\n",
    "        self.ns=ns\n",
    "        self.espelhamento=espelhamento\n",
    "        self.opacidade=opacidade\n",
    "        if textura is not None:\n",
    "            img = plt.imread(textura)\n",
    "            img = img/255\n",
    "            img = img[:,:,:3]\n",
    "            self.textura = img\n",
    "        else:\n",
    "            self.textura = None\n",
    "\n",
    "        def show(self):\n",
    "            print(\"Material:\")\n",
    "            print(\"cor difuso=\",self.kd)\n",
    "            print(\"cor especular=\",self.ks)\n",
    "            print(\"coeficiente especular=\",self.ns)\n",
    "            print(\"espelhamento = \",self.espelhamento)\n",
    "            print(\"opacidade = \",self.opacidade)\n",
    "            \n",
    "        def get_Phong(self,u,v):\n",
    "            if self.textura is None:\n",
    "                return self.kd,self.ks,self.ns\n",
    "            else:\n",
    "                ht,wt = self.textura.shape\n",
    "                x = int(u*wt)\n",
    "                y = int(v*ht)\n",
    "                kd = self.textura[y,x,:]\n",
    "                return kd,self.ks,self.ns\n",
    "        \n",
    "        def get_espelhamento(self):\n",
    "            return self.espelhamento\n",
    "        \n",
    "        def get_opacidade(self):\n",
    "            return self.opacidade"
   ]
  },
  {
   "cell_type": "code",
   "execution_count": 8,
   "metadata": {},
   "outputs": [],
   "source": [
    "class Luz:\n",
    "    def __init__(self,posicao,intensidade):\n",
    "        self.posicao = posicao\n",
    "        self.intensidade = intensidade\n",
    "    \n",
    "    def show(self):\n",
    "        print(\"Luz\")\n",
    "        print(f'posicao = {self.posicao}')\n",
    "        print(f'intensidade = {self.intensidade}')\n",
    "        \n",
    "    def get_pos(self):\n",
    "        return self.posicao\n",
    "    \n",
    "    def get_intensidade(self):\n",
    "        return self.intensidade"
   ]
  },
  {
   "cell_type": "code",
   "execution_count": 9,
   "metadata": {},
   "outputs": [],
   "source": [
    "class Cena:\n",
    "    def __init__(self,camera,objetos,materiais,ambiente,luzes):\n",
    "        self.camera = camera\n",
    "        self.objetos = objetos\n",
    "        self.materiais = materiais\n",
    "        self.ambiente = ambiente\n",
    "        self.luzes = luzes\n",
    "        \n",
    "    def show(self):\n",
    "        self.camera.show()\n",
    "        for obj in self.objetos:\n",
    "            obj.show()\n",
    "        for mat in self.materiais:\n",
    "            mat.show()\n",
    "        print(\"ambiente =\",self.ambiente)\n",
    "        for luz in self.luzes:\n",
    "            luz.show()\n",
    "        \n",
    "    def render(self):\n",
    "        w = self.camera.get_w()\n",
    "        h = self.camera.get_h()\n",
    "        origem = self.camera.get_eye()\n",
    "        for y in range(h):\n",
    "            for x in range(w):\n",
    "                direcao = self.camera.ray_to(x,y)\n",
    "                rgb, obji = self.trace(None,origem,direcao,0)\n",
    "                if obji is not None:\n",
    "                    self.camera.set_pixel(x,y,rgb)\n",
    "\n",
    "    def trace(self,objeto,origem,direcao,nrec):\n",
    "        ti = np.inf\n",
    "        obji = None\n",
    "        for obj in self.objetos:\n",
    "            if obj is not objeto:\n",
    "                t, objx = obj.intercepta(origem,direcao)\n",
    "                if t<ti:\n",
    "                    ti=t\n",
    "                    obji=objx\n",
    "        if obji and ti>TOL:\n",
    "            ponto = origem+ti*direcao\n",
    "            rgb = self.shade(obji,origem,ponto,nrec)\n",
    "            return rgb,obji\n",
    "        return None,None\n",
    "    \n",
    "    def shade(self,objeto,origem,ponto,nrec):\n",
    "        material = objeto.get_material()\n",
    "        normal = objeto.normal(ponto)\n",
    "        u,v = objeto.get_texture(ponto)\n",
    "        kd,ks,ns = material.get_Phong(u,v)\n",
    "        cor = self.ambiente*kd\n",
    "        toEye = unitario(origem - ponto)\n",
    "        for luz in self.luzes:\n",
    "            toLuz = luz.get_pos()-ponto\n",
    "            naSombra = self.sombra(objeto,ponto,toLuz)\n",
    "            if naSombra is False:\n",
    "                vluz = unitario(toLuz)\n",
    "                cos1 = dot(vluz,normal)\n",
    "                if cos1>TOL:\n",
    "                    Lw = luz.get_intensidade()\n",
    "                    cor+= Lw*kd*cos1\n",
    "                    rluz=reflete(vluz,normal)\n",
    "                    cos2 = dot(rluz,toEye)\n",
    "                    if cos2>TOL:\n",
    "                        cor+=Lw*ks*(cos2**ns)\n",
    "        espelhamento = material.get_espelhamento()\n",
    "        if espelhamento>0 and nrec < 5:\n",
    "            dir_espelhada= reflete(toEye,normal)\n",
    "            rgb_espelhado, obji = self,trace(objeto,ponto,dir_espelhada,nrec+1)\n",
    "            if obji is not None:\n",
    "                cor = (1-espelhamento)*cor+espelhamento*rgb_espelhado\n",
    "            else:\n",
    "                cor=(1-espelhamento)*cor\n",
    "        return cor\n",
    "    \n",
    "    def sombra(self,objeto,origem,direcao):\n",
    "        ti=np.inf\n",
    "        obji=None\n",
    "        for obj in self.objetos:\n",
    "            if obj is not objeto:\n",
    "                t,objx=obj.intercepta(origem,direcao)\n",
    "                if t>TOL and t<1:\n",
    "                    return True\n",
    "        return False"
   ]
  },
  {
   "cell_type": "code",
   "execution_count": 10,
   "metadata": {},
   "outputs": [
    {
     "name": "stdout",
     "output_type": "stream",
     "text": [
      "CAMERA\n",
      "fov=90, d=30\n",
      "(w,h)=(300,300)\n",
      "(b,a)=(59.999999999999986,59.99999999999999)\n",
      "xe=[ 0.37139068  0.         -0.92847669]\n",
      "ye=[ 0.32325409 -0.93743687  0.12930164]\n",
      "ze=[-0.87038828 -0.34815531 -0.34815531]\n"
     ]
    }
   ],
   "source": [
    "eye = vetor(100,40,40)\n",
    "at = vetor(0,0,0)\n",
    "up = vetor(0,1,0)\n",
    "camera = Camera(90,300,300,30,eye,at,up)\n",
    "camera.show()"
   ]
  },
  {
   "cell_type": "code",
   "execution_count": 11,
   "metadata": {},
   "outputs": [
    {
     "name": "stdout",
     "output_type": "stream",
     "text": [
      "Luz\n",
      "posicao = [ 60. 120.  40.]\n",
      "intensidade = [0.8 0.8 0.8]\n"
     ]
    }
   ],
   "source": [
    "luz = Luz(vetor(60.,120.,40.),vetor(0.8,0.8,0.8))\n",
    "luz2 = Luz(vetor(100.,40.,40.),vetor(0.8,0.8,0.8))\n",
    "luz.show()"
   ]
  },
  {
   "cell_type": "code",
   "execution_count": 12,
   "metadata": {},
   "outputs": [],
   "source": [
    "azul_metalico = Material(vetor(0,0,1),vetor(1,1,1),30,0,1,\"formica.png\")\n",
    "amarelo_fosco = Material(vetor(0.7,0.7,0),vetor(0,0,0),1,0,1,None)\n",
    "amarelo_espelho = Material(vetor(0.7,0.7,0),vetor(0,0,0),1,1,1,None)"
   ]
  },
  {
   "cell_type": "code",
   "execution_count": 13,
   "metadata": {},
   "outputs": [],
   "source": [
    "esfera = Esfera(25,vetor(0,20,0),azul_metalico)\n",
    "#esfera.show()"
   ]
  },
  {
   "cell_type": "code",
   "execution_count": 14,
   "metadata": {},
   "outputs": [
    {
     "name": "stdout",
     "output_type": "stream",
     "text": [
      "plano0: ponto=[-80. -50. -50.], normal=[-1.  0.  0.]\n",
      "plano1: ponto=[-80. -50. -50.], normal=[ 0. -1.  0.]\n",
      "plano2: ponto=[-80. -50. -50.], normal=[ 0.  0. -1.]\n",
      "plano3: ponto=[ 50. -45.  50.], normal=[1. 0. 0.]\n",
      "plano4: ponto=[ 50. -45.  50.], normal=[0. 1. 0.]\n",
      "plano5: ponto=[ 50. -45.  50.], normal=[0. 0. 1.]\n",
      "plano0: ponto=[-80. -50. -60.], normal=[-1.  0.  0.]\n",
      "plano1: ponto=[-80. -50. -60.], normal=[ 0. -1.  0.]\n",
      "plano2: ponto=[-80. -50. -60.], normal=[ 0.  0. -1.]\n",
      "plano3: ponto=[ 50.  50. -50.], normal=[1. 0. 0.]\n",
      "plano4: ponto=[ 50.  50. -50.], normal=[0. 1. 0.]\n",
      "plano5: ponto=[ 50.  50. -50.], normal=[0. 0. 1.]\n"
     ]
    }
   ],
   "source": [
    "piso = Caixa(vetor(-80,-50,-50),vetor(50,-45,50),amarelo_fosco)\n",
    "parede = Caixa(vetor(-80,-50,-60),vetor(50,50,-50),amarelo_espelho)\n",
    "piso.show()\n",
    "parede.show()"
   ]
  },
  {
   "cell_type": "code",
   "execution_count": 15,
   "metadata": {},
   "outputs": [],
   "source": [
    "objetos = [esfera,piso,parede]\n",
    "materiais = [azul_metalico, amarelo_fosco,amarelo_espelho]\n",
    "luzes=[luz,luz2]\n",
    "ambiente = vetor(0.1,0.1,0.1)\n",
    "cena = Cena(camera,objetos,materiais,ambiente,luzes)\n",
    "# cena.show()"
   ]
  },
  {
   "cell_type": "code",
   "execution_count": 16,
   "metadata": {},
   "outputs": [],
   "source": [
    "cena.render()"
   ]
  },
  {
   "cell_type": "code",
   "execution_count": 17,
   "metadata": {},
   "outputs": [
    {
     "data": {
      "image/png": "[encoded data removed]",
      "text/plain": [
       "<Figure size 432x288 with 1 Axes>"
      ]
     },
     "metadata": {
      "needs_background": "light"
     },
     "output_type": "display_data"
    }
   ],
   "source": [
    "camera.imshow()"
   ]
  }
 ],
 "metadata": {
  "kernelspec": {
   "display_name": "Python 3",
   "language": "python",
   "name": "python3"
  },
  "language_info": {
   "codemirror_mode": {
    "name": "ipython",
    "version": 3
   },
   "file_extension": ".py",
   "mimetype": "text/x-python",
   "name": "python",
   "nbconvert_exporter": "python",
   "pygments_lexer": "ipython3",
   "version": "3.8.5"
  }
 },
 "nbformat": 4,
 "nbformat_minor": 4
}
