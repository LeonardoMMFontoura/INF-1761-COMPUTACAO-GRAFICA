{
 "cells": [
  {
   "cell_type": "markdown",
   "metadata": {},
   "source": [
    "<h1>T3-Visualização de uma imagem 360</h1>"
   ]
  },
  {
   "cell_type": "code",
   "execution_count": 4,
   "metadata": {},
   "outputs": [],
   "source": [
    "import numpy as np\n",
    "import matplotlib.pyplot as plt"
   ]
  },
  {
   "cell_type": "code",
   "execution_count": 16,
   "metadata": {},
   "outputs": [],
   "source": [
    "class Camera:\n",
    "    def __init__(self,fov,w,h,d):\n",
    "        self.fov = fov\n",
    "        self.w = w\n",
    "        self.h = h\n",
    "        self.d = d\n",
    "        self.a = 2*d*np.tan(fov*np.pi/180)\n",
    "        self.b = a*w/h\n",
    "        self.eye = np.array([0.,0.,0.])\n",
    "        self.xe = np.array([1.,0.,0.])\n",
    "        self.ye = np.array([0.,-1.,0.])\n",
    "        self.ze = np.array([0.,0.,-1.])\n",
    "        self.img = np.zeros(shape=(h,w,3),dtype=np.float)\n",
    "         \n",
    "    def ray_to(self,x_im,y_im):\n",
    "        dr_x = self.b*(self.x_im/self.w-0.5)\n",
    "        dr_y = self.a*(self.y_im/self.h-0.5)\n",
    "        dr_z = self.d\n",
    "        \n",
    "    def pixel(self,x_img,y_img,rgb):\n",
    "        self.img[y_im, x_im,:]=rgb\n",
    "        \n",
    "    def get_w(self):\n",
    "        return self.w\n",
    "        \n",
    "    def get_h(self):\n",
    "        return self.h\n",
    "    \n",
    "    def imshow(self):\n",
    "        plt.imshow(self.img)\n",
    "        plt.show()\n",
    "    \n",
    "class Sphere:\n",
    "    def __init__(self,radius,img360):\n",
    "        self.radius = radius\n",
    "        self.img360 = img360\n",
    "        \n",
    "    def trace(self,ray):\n",
    "        \n",
    "        return rgb\n",
    "\n",
    "class Scene:\n",
    "    def __init__(self, camera, sphere):\n",
    "        self.camera = camera\n",
    "        self.sphere = sphere\n",
    "        \n",
    "    def render(self):\n",
    "        w = self.camera.get_w()\n",
    "        h = self.camera.get_h()\n",
    "        for y in range(h):\n",
    "            for x in range(w):\n",
    "                ray = self.camera.ray_to(x,y)\n",
    "                rgb = self.sphere.trace(ray)\n",
    "                self.camera.pixel(x,y,rgb)\n",
    "        "
   ]
  },
  {
   "cell_type": "code",
   "execution_count": 17,
   "metadata": {},
   "outputs": [
    {
     "ename": "TypeError",
     "evalue": "imread() missing 1 required positional argument: 'fname'",
     "output_type": "error",
     "traceback": [
      "\u001b[1;31m---------------------------------------------------------------------------\u001b[0m",
      "\u001b[1;31mTypeError\u001b[0m                                 Traceback (most recent call last)",
      "\u001b[1;32m<ipython-input-17-4e10a43881c9>\u001b[0m in \u001b[0;36m<module>\u001b[1;34m\u001b[0m\n\u001b[1;32m----> 1\u001b[1;33m \u001b[0mimg360\u001b[0m \u001b[1;33m=\u001b[0m \u001b[0mplt\u001b[0m\u001b[1;33m.\u001b[0m\u001b[0mimread\u001b[0m\u001b[1;33m(\u001b[0m\u001b[1;33m)\u001b[0m\u001b[1;33m\u001b[0m\u001b[1;33m\u001b[0m\u001b[0m\n\u001b[0m\u001b[0;32m      2\u001b[0m \u001b[0mcam\u001b[0m \u001b[1;33m=\u001b[0m \u001b[0mCamera\u001b[0m\u001b[1;33m(\u001b[0m\u001b[1;36m90\u001b[0m\u001b[1;33m,\u001b[0m\u001b[1;36m1024\u001b[0m\u001b[1;33m,\u001b[0m\u001b[1;36m768\u001b[0m\u001b[1;33m,\u001b[0m\u001b[1;36m0.1\u001b[0m\u001b[1;33m)\u001b[0m\u001b[1;33m\u001b[0m\u001b[1;33m\u001b[0m\u001b[0m\n\u001b[0;32m      3\u001b[0m \u001b[0msph\u001b[0m \u001b[1;33m=\u001b[0m \u001b[0mSphere\u001b[0m\u001b[1;33m(\u001b[0m\u001b[1;36m10\u001b[0m\u001b[1;33m,\u001b[0m\u001b[0mimg360\u001b[0m\u001b[1;33m)\u001b[0m\u001b[1;33m\u001b[0m\u001b[1;33m\u001b[0m\u001b[0m\n\u001b[0;32m      4\u001b[0m \u001b[0mscn\u001b[0m \u001b[1;33m=\u001b[0m \u001b[0mScene\u001b[0m\u001b[1;33m(\u001b[0m\u001b[0mcam\u001b[0m\u001b[1;33m,\u001b[0m\u001b[0msph\u001b[0m\u001b[1;33m)\u001b[0m\u001b[1;33m\u001b[0m\u001b[1;33m\u001b[0m\u001b[0m\n\u001b[0;32m      5\u001b[0m \u001b[1;33m\u001b[0m\u001b[0m\n",
      "\u001b[1;31mTypeError\u001b[0m: imread() missing 1 required positional argument: 'fname'"
     ]
    }
   ],
   "source": [
    "img360 = plt.imread()\n",
    "cam = Camera(90,1024,768,0.1)\n",
    "sph = Sphere(10,img360)\n",
    "scn = Scene(cam,sph)\n",
    "\n",
    "scn.render()\n",
    "\n",
    "cam.show()\n"
   ]
  },
  {
   "cell_type": "code",
   "execution_count": null,
   "metadata": {},
   "outputs": [],
   "source": []
  }
 ],
 "metadata": {
  "kernelspec": {
   "display_name": "Python 3",
   "language": "python",
   "name": "python3"
  },
  "language_info": {
   "codemirror_mode": {
    "name": "ipython",
    "version": 3
   },
   "file_extension": ".py",
   "mimetype": "text/x-python",
   "name": "python",
   "nbconvert_exporter": "python",
   "pygments_lexer": "ipython3",
   "version": "3.8.5"
  }
 },
 "nbformat": 4,
 "nbformat_minor": 4
}
