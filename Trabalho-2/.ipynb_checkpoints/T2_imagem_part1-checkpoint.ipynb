{
 "cells": [
  {
   "cell_type": "markdown",
   "metadata": {},
   "source": [
    "<h1>CG21-T2 Processamento de Imagens</h1>\n",
    "<p>Faça um notebook que:</p>\n",
    "<ol>\n",
    "    <li>Leia e exiba uma imagem RGB.</li>\n",
    "    <li>Ilustre com um grafico xy a variação dos canais red, green e blue na linha correspondente a metade da altura.</li>\n",
    "    <li>Transforme a imagem de RGB para uma imagem de luminância,Y, de acordo com a luminancia dos fósforos do sistema sRGB, explicada na pagina \n",
    "        <a href=\"https://en.wikipedia.org/wiki/Relative_luminance#cite_note-2\">\n",
    "            Relative luminance</a> e exiba.</li>\n",
    "    <li>Transforme a imagem de luminância, Y, em imagem de \"lightness\", L, do sistema Lab</li>\n",
    "    <li>Exiba o histograma da imagem de luminância, Y, e responda qual a probabilidade de ao escolhermos randomicamente um pixel ele ter o valor a metade do valor máximo.</li>\n",
    "    <li>Aplique uma mascara de convolução que indique se um pixel pertence ou não a uma borda.  Exiba o resultado desta convolução numa imagem em tons de cinza.</li>\n",
    "    <li>Exiba a imagem original no \"estilo cartoon\" (escureça os pixels que são borda).\n",
    "</ol>\n",
    "<p>Obs-Novas funções:<p>\n",
    "<ul>\n",
    "    <li>matplotlib.pyplot.imread</li>\n",
    "    <li>matplotlib.pyplot.imshow</li>\n",
    "</ul>"
   ]
  },
  {
   "cell_type": "code",
   "execution_count": 3,
   "metadata": {},
   "outputs": [],
   "source": [
    "import numpy as np\n",
    "import matplotlib.pyplot as plt"
   ]
  },
  {
   "cell_type": "code",
   "execution_count": 5,
   "metadata": {},
   "outputs": [],
   "source": [
    "#utilizei os arquivos na mesma pasta\n",
    "path= \"\"\n",
    "name= 'lenna.png'\n",
    "fname = path + name"
   ]
  },
  {
   "cell_type": "code",
   "execution_count": null,
   "metadata": {},
   "outputs": [],
   "source": [
    "img = plt.imread(fname)\n",
    "\n",
    "plt"
   ]
  },
  {
   "cell_type": "code",
   "execution_count": null,
   "metadata": {},
   "outputs": [],
   "source": []
  },
  {
   "cell_type": "code",
   "execution_count": null,
   "metadata": {},
   "outputs": [],
   "source": []
  }
 ],
 "metadata": {
  "kernelspec": {
   "display_name": "Python 3",
   "language": "python",
   "name": "python3"
  },
  "language_info": {
   "codemirror_mode": {
    "name": "ipython",
    "version": 3
   },
   "file_extension": ".py",
   "mimetype": "text/x-python",
   "name": "python",
   "nbconvert_exporter": "python",
   "pygments_lexer": "ipython3",
   "version": "3.8.5"
  }
 },
 "nbformat": 4,
 "nbformat_minor": 4
}
