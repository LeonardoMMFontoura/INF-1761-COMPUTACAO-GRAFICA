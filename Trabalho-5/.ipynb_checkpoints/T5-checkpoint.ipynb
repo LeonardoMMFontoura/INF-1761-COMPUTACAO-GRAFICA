{
 "cells": [
  {
   "cell_type": "code",
   "execution_count": 1,
   "metadata": {},
   "outputs": [],
   "source": [
    "#Imports\n",
    "import numpy as np\n",
    "import matplotlib.pyplot as plt\n",
    "import sys\n",
    "import math\n",
    "import copy\n"
   ]
  },
  {
   "cell_type": "code",
   "execution_count": 2,
   "metadata": {},
   "outputs": [],
   "source": [
    "from algebra import *\n",
    "from cube import *"
   ]
  },
  {
   "cell_type": "code",
   "execution_count": 3,
   "metadata": {},
   "outputs": [],
   "source": [
    "#Definições\n",
    "TOL = sys.float_info.epsilon"
   ]
  },
  {
   "cell_type": "code",
   "execution_count": 4,
   "metadata": {},
   "outputs": [],
   "source": [
    "class Camera:\n",
    "    def __init__(self,fov,w,h,near,far, eye,at,up):\n",
    "        self.fov = fov\n",
    "        self.w = w\n",
    "        self.h = h\n",
    "        self.near = near\n",
    "        self.far = far\n",
    "        self.a = 2*near*np.tan(fov*np.pi/360)\n",
    "        self.b = self.a*w/h\n",
    "        self.eye = eye\n",
    "        self.ze = unitario(at-eye)\n",
    "        self.xe = unitario(cross(self.ze,up))\n",
    "        self.ye = cross(self.ze,self.xe)\n",
    "        self.img = np.full((h,w,3),0,dtype=np.float64)\n",
    "        self.zbuffer = np.full((h,w,3),np.inf,dtype=np.float64)\n",
    "        \n",
    "    def show(self):\n",
    "        print(\"CAMERA\")\n",
    "        print(f'fov={self.fov}, n={self.near},f={self.far}')\n",
    "        print(f'(w,h)=({self.w},{self.h})')\n",
    "        print(f'(b,a)=({self.b},{self.a})')\n",
    "        print(f'xe={self.xe}')\n",
    "        print(f'ye={self.ye}')\n",
    "        print(f'ze={self.ze}') \n",
    "    \n",
    "    def LookAt(self):\n",
    "        I = identidade()\n",
    "        R = mudanca_de_base(I,self.xe,self.ye,self.ze)\n",
    "        Lat = translada(R,-self.eye[0],-self.eye[1],-self.eye[2])\n",
    "        return Lat\n",
    "    \n",
    "    def projection(self):\n",
    "        P = identidade()\n",
    "        P[1,1] = 1/np.tan(self.fov*np.pi/360)\n",
    "        P[0,0] = P[1,1]*(self.h/self.w)\n",
    "        P[2,2] = (self.far+self.near)/(self.far-self.near)\n",
    "        P[2,3] = -2*self.far*self.near/(self.far-self.near)\n",
    "        P[3,2] = 1\n",
    "        P[3,3] = 0\n",
    "        return P\n",
    "    \n",
    "    def to_canvas(self, xn,yn,zn):\n",
    "        xc = int(round((self.w-1)*(xn + 1)/2))\n",
    "        yc = int(round((self.h-1)*(yn + 1)/2))\n",
    "        zc = int(round((65536 - 1)*(zn + 1)/2))\n",
    "        \n",
    "        return np.array([xc,yc,zc],dtype=int)\n",
    "        \n",
    "    def ray_to(self,x,y):\n",
    "        dx = self.b*(x/self.w-0.5)\n",
    "        dy = self.a*(y/self.h-0.5)\n",
    "        dz = self.near\n",
    "        ray = dx*self.xe+dy*self.ye+dz*self.ze\n",
    "        return ray\n",
    "\n",
    "    def get_eye(self):\n",
    "        return self.eye\n",
    "\n",
    "    def get_pixel(self,x,y):\n",
    "        return self.img[y,x,:]\n",
    "\n",
    "    def set_pixel(self,x,y,rgb):\n",
    "        self.img[y,x,:]=rgb\n",
    "\n",
    "    def add_pixel(self,x,y,rgb):\n",
    "        self.img[y,x,:]+=rgb\n",
    "\n",
    "    def get_w(self):\n",
    "        return self.w\n",
    "\n",
    "    def get_h(self):\n",
    "        return self.h\n",
    "\n",
    "    def imshow(self):\n",
    "        img_max = np.amax(self.img)\n",
    "        if img_max < TOL:\n",
    "            print(\"Imagem Zerada\")\n",
    "        self.img = self.img/img_max\n",
    "        plt.imshow(self.img)\n",
    "        plt.show()\n",
    "    "
   ]
  },
  {
   "cell_type": "code",
   "execution_count": 5,
   "metadata": {},
   "outputs": [
    {
     "name": "stdout",
     "output_type": "stream",
     "text": [
      "CAMERA\n",
      "fov=45, n=0.5,f=10\n",
      "(w,h)=(680,480)\n",
      "(b,a)=(0.5868025466952179,0.41421356237309503)\n",
      "xe=[-0.70710678  0.70710678  0.        ]\n",
      "ye=[ 0.34815531  0.34815531 -0.87038828]\n",
      "ze=[-0.61545745 -0.61545745 -0.49236596]\n"
     ]
    }
   ],
   "source": [
    "eye = vetor(1.5,1.5,1.2)\n",
    "at = vetor(0,0,0)\n",
    "up = vetor(0,0,1) \n",
    "\n",
    "camera = Camera(45,680,480,0.5,10,eye,at,up)\n",
    "camera.show() "
   ]
  },
  {
   "cell_type": "code",
   "execution_count": 6,
   "metadata": {},
   "outputs": [],
   "source": [
    "class ObjectBuffer:\n",
    "    \"\"\"\n",
    "    Armazena um conjunto de primitivas necessárias para instanciar um objeto na cena\n",
    "    \n",
    "    Parameters:\n",
    "        vertex (np.array): Conjunto de Verticies do Objeto (Coordenadas)\n",
    "        triangles (np.array): Indices de cada Conjunto de verticies do triangulo\n",
    "        normals (np.array): Conjunto de normais de cada vertice\n",
    "        materiais (np.array): Materiais de cada triangulo\n",
    "    Returns:\n",
    "        ObjectBuffer: Instância do ObjectBuffer\n",
    "    \"\"\"\n",
    "    def __init__(self, vertex, triangles, normals, materials):\n",
    "        self.vertex = copy.deepcopy(vertex)\n",
    "        self.color = np.zeros(shape=vertex.shape,dtype= np.float64)\n",
    "        self.triangles = copy.deepcopy(triangles)\n",
    "        self.normals = copy.deepcopy(normals)\n",
    "        self.materials = copy.deepcopy(materials)\n",
    "        self.Mview = identidade()\n",
    "    \n",
    "    def ShowConfigurations(self, showTriangles=False):\n",
    "        print(\"Coordernadas: \")\n",
    "        for i in range(self.vertex.shape[0]):\n",
    "            print(f\"\\t v{i} = {self.vertex[i,:]} n{i} = {self.normals[i, :]}\")\n",
    "        \n",
    "        if(showTriangles):\n",
    "            print(\"Triângulos: \")\n",
    "            for i in range(self.triangles.shape[0]):\n",
    "                print(f\"\\t t{i} = {self.triangles[i,:]}\")\n",
    "            \n",
    "    def transforma(self,M):\n",
    "        self.mview = copy.deepcopy(M)\n",
    "        for i, v in enumerate(self.vertex):\n",
    "            vp = to_projetivo(v)\n",
    "            up = np.dot(M,vp)\n",
    "            uc = to_cartesiano(up)\n",
    "            self.vertex[i,:]=uc\n",
    "            \n",
    "        Minvt = np.linalg.inv(M.T)\n",
    "        for i,normal in enumerate(self.normals):\n",
    "            nh = to_projetivo(normal)\n",
    "            nh = np.dot(Minvt,nh)\n",
    "            nc = vetor(nh[0],nh[1],nh[2])\n",
    "            nc = unitario(nc)\n",
    "            self.normals[i,:]=nc\n",
    "    \n",
    "    def projetar(self,P):\n",
    "        self.projection = copy.deepcopy(P)\n",
    "        \n",
    "        for i in range(len(self.vertex)):\n",
    "            vertex = self.vertex[i]\n",
    "            vp = to_projetivo(vertex)\n",
    "            up = np.dot(P, vp)\n",
    "            uc = to_cartesiano(up)\n",
    "            \n",
    "            self.vertex[i,:]=uc\n",
    "    \n",
    "    \n",
    "    def get_vertices(self):\n",
    "        return self.vertex\n",
    "    \n",
    "    def get_triangles(self):\n",
    "        return self.triangles\n",
    "        \n",
    "      \n",
    "    #def cor(self,luzes,ambiente):\n",
    "     #   rgb = ambiente*\n",
    "     #   for luz in luzes:\n",
    "     #       luzpos = luz.getpos()\n",
    "     #       luzrgb = luz.get_intensidade()  "
   ]
  },
  {
   "cell_type": "code",
   "execution_count": 7,
   "metadata": {},
   "outputs": [
    {
     "name": "stdout",
     "output_type": "stream",
     "text": [
      "Coordernadas: \n",
      "\t v0 = [-1. -1.  1.] n0 = [0. 0. 1.]\n",
      "\t v1 = [ 1. -1.  1.] n1 = [0. 0. 1.]\n",
      "\t v2 = [1. 1. 1.] n2 = [0. 0. 1.]\n",
      "\t v3 = [-1.  1.  1.] n3 = [0. 0. 1.]\n",
      "\t v4 = [-1. -1. -1.] n4 = [ 0.  0. -1.]\n",
      "\t v5 = [-1.  1. -1.] n5 = [ 0.  0. -1.]\n",
      "\t v6 = [ 1.  1. -1.] n6 = [ 0.  0. -1.]\n",
      "\t v7 = [ 1. -1. -1.] n7 = [ 0.  0. -1.]\n",
      "\t v8 = [-1.  1. -1.] n8 = [0. 1. 0.]\n",
      "\t v9 = [-1.  1.  1.] n9 = [0. 1. 0.]\n",
      "\t v10 = [1. 1. 1.] n10 = [0. 1. 0.]\n",
      "\t v11 = [ 1.  1. -1.] n11 = [0. 1. 0.]\n",
      "\t v12 = [-1. -1. -1.] n12 = [ 0. -1.  0.]\n",
      "\t v13 = [ 1. -1. -1.] n13 = [ 0. -1.  0.]\n",
      "\t v14 = [ 1. -1.  1.] n14 = [ 0. -1.  0.]\n",
      "\t v15 = [-1. -1.  1.] n15 = [ 0. -1.  0.]\n",
      "\t v16 = [ 1. -1. -1.] n16 = [1. 0. 0.]\n",
      "\t v17 = [ 1.  1. -1.] n17 = [1. 0. 0.]\n",
      "\t v18 = [1. 1. 1.] n18 = [1. 0. 0.]\n",
      "\t v19 = [ 1. -1.  1.] n19 = [1. 0. 0.]\n",
      "\t v20 = [-1. -1. -1.] n20 = [-1.  0.  0.]\n",
      "\t v21 = [-1. -1.  1.] n21 = [-1.  0.  0.]\n",
      "\t v22 = [-1.  1.  1.] n22 = [-1.  0.  0.]\n",
      "\t v23 = [-1.  1. -1.] n23 = [-1.  0.  0.]\n"
     ]
    }
   ],
   "source": [
    "cubo = ObjectBuffer(vertices, indices, normals, [])\n",
    "cubo.ShowConfigurations()"
   ]
  },
  {
   "cell_type": "code",
   "execution_count": 8,
   "metadata": {},
   "outputs": [
    {
     "name": "stdout",
     "output_type": "stream",
     "text": [
      "Coordernadas: \n",
      "\t v0 = [ 0.         -0.52223297  2.95419578] n0 = [-5.26588286e-17 -8.70388280e-01 -4.92365964e-01]\n",
      "\t v1 = [-0.70710678 -0.17407766  2.33873833] n1 = [-5.26588286e-17 -8.70388280e-01 -4.92365964e-01]\n",
      "\t v2 = [0.         0.17407766 1.72328087] n2 = [-5.26588286e-17 -8.70388280e-01 -4.92365964e-01]\n",
      "\t v3 = [ 0.70710678 -0.17407766  2.33873833] n3 = [-5.26588286e-17 -8.70388280e-01 -4.92365964e-01]\n",
      "\t v4 = [0.         0.34815531 3.44656175] n4 = [5.26588286e-17 8.70388280e-01 4.92365964e-01]\n",
      "\t v5 = [0.70710678 0.69631062 2.83110429] n5 = [5.26588286e-17 8.70388280e-01 4.92365964e-01]\n",
      "\t v6 = [0.         1.04446594 2.21564684] n6 = [5.26588286e-17 8.70388280e-01 4.92365964e-01]\n",
      "\t v7 = [-0.70710678  0.69631062  2.83110429] n7 = [5.26588286e-17 8.70388280e-01 4.92365964e-01]\n",
      "\t v8 = [0.70710678 0.69631062 2.83110429] n8 = [ 0.70710678  0.34815531 -0.61545745]\n",
      "\t v9 = [ 0.70710678 -0.17407766  2.33873833] n9 = [ 0.70710678  0.34815531 -0.61545745]\n",
      "\t v10 = [0.         0.17407766 1.72328087] n10 = [ 0.70710678  0.34815531 -0.61545745]\n",
      "\t v11 = [0.         1.04446594 2.21564684] n11 = [ 0.70710678  0.34815531 -0.61545745]\n",
      "\t v12 = [0.         0.34815531 3.44656175] n12 = [-0.70710678 -0.34815531  0.61545745]\n",
      "\t v13 = [-0.70710678  0.69631062  2.83110429] n13 = [-0.70710678 -0.34815531  0.61545745]\n",
      "\t v14 = [-0.70710678 -0.17407766  2.33873833] n14 = [-0.70710678 -0.34815531  0.61545745]\n",
      "\t v15 = [ 0.         -0.52223297  2.95419578] n15 = [-0.70710678 -0.34815531  0.61545745]\n",
      "\t v16 = [-0.70710678  0.69631062  2.83110429] n16 = [-0.70710678  0.34815531 -0.61545745]\n",
      "\t v17 = [0.         1.04446594 2.21564684] n17 = [-0.70710678  0.34815531 -0.61545745]\n",
      "\t v18 = [0.         0.17407766 1.72328087] n18 = [-0.70710678  0.34815531 -0.61545745]\n",
      "\t v19 = [-0.70710678 -0.17407766  2.33873833] n19 = [-0.70710678  0.34815531 -0.61545745]\n",
      "\t v20 = [0.         0.34815531 3.44656175] n20 = [ 0.70710678 -0.34815531  0.61545745]\n",
      "\t v21 = [ 0.         -0.52223297  2.95419578] n21 = [ 0.70710678 -0.34815531  0.61545745]\n",
      "\t v22 = [ 0.70710678 -0.17407766  2.33873833] n22 = [ 0.70710678 -0.34815531  0.61545745]\n",
      "\t v23 = [0.70710678 0.69631062 2.83110429] n23 = [ 0.70710678 -0.34815531  0.61545745]\n"
     ]
    }
   ],
   "source": [
    "model = identidade()\n",
    "model = escala(model,0.5,0.5,0.5)\n",
    "view = camera.LookAt()\n",
    "modelview = np.dot(view,model)\n",
    "cubo.transforma(modelview)\n",
    "cubo.ShowConfigurations()"
   ]
  },
  {
   "cell_type": "code",
   "execution_count": 9,
   "metadata": {},
   "outputs": [
    {
     "name": "stdout",
     "output_type": "stream",
     "text": [
      "Coordernadas: \n",
      "\t v0 = [ 0.         -0.4267767   0.74894568] n0 = [-5.26588286e-17 -8.70388280e-01 -4.92365964e-01]\n",
      "\t v1 = [-0.51524214 -0.17969545  0.65517793] n1 = [-5.26588286e-17 -8.70388280e-01 -4.92365964e-01]\n",
      "\t v2 = [0.        0.2438724 0.4944332] n2 = [-5.26588286e-17 -8.70388280e-01 -4.92365964e-01]\n",
      "\t v3 = [ 0.51524214 -0.17969545  0.65517793] n3 = [-5.26588286e-17 -8.70388280e-01 -4.92365964e-01]\n",
      "\t v4 = [0.         0.2438724  0.79984818] n4 = [5.26588286e-17 8.70388280e-01 4.92365964e-01]\n",
      "\t v5 = [0.42563481 0.59377627 0.73345362] n5 = [5.26588286e-17 8.70388280e-01 4.92365964e-01]\n",
      "\t v6 = [0.         1.13807119 0.63017319] n6 = [5.26588286e-17 8.70388280e-01 4.92365964e-01]\n",
      "\t v7 = [-0.42563481  0.59377627  0.73345362] n7 = [5.26588286e-17 8.70388280e-01 4.92365964e-01]\n",
      "\t v8 = [0.42563481 0.59377627 0.73345362] n8 = [ 0.70710678  0.34815531 -0.61545745]\n",
      "\t v9 = [ 0.51524214 -0.17969545  0.65517793] n9 = [ 0.70710678  0.34815531 -0.61545745]\n",
      "\t v10 = [0.        0.2438724 0.4944332] n10 = [ 0.70710678  0.34815531 -0.61545745]\n",
      "\t v11 = [0.         1.13807119 0.63017319] n11 = [ 0.70710678  0.34815531 -0.61545745]\n",
      "\t v12 = [0.         0.2438724  0.79984818] n12 = [-0.70710678 -0.34815531  0.61545745]\n",
      "\t v13 = [-0.42563481  0.59377627  0.73345362] n13 = [-0.70710678 -0.34815531  0.61545745]\n",
      "\t v14 = [-0.51524214 -0.17969545  0.65517793] n14 = [-0.70710678 -0.34815531  0.61545745]\n",
      "\t v15 = [ 0.         -0.4267767   0.74894568] n15 = [-0.70710678 -0.34815531  0.61545745]\n",
      "\t v16 = [-0.42563481  0.59377627  0.73345362] n16 = [-0.70710678  0.34815531 -0.61545745]\n",
      "\t v17 = [0.         1.13807119 0.63017319] n17 = [-0.70710678  0.34815531 -0.61545745]\n",
      "\t v18 = [0.        0.2438724 0.4944332] n18 = [-0.70710678  0.34815531 -0.61545745]\n",
      "\t v19 = [-0.51524214 -0.17969545  0.65517793] n19 = [-0.70710678  0.34815531 -0.61545745]\n",
      "\t v20 = [0.         0.2438724  0.79984818] n20 = [ 0.70710678 -0.34815531  0.61545745]\n",
      "\t v21 = [ 0.         -0.4267767   0.74894568] n21 = [ 0.70710678 -0.34815531  0.61545745]\n",
      "\t v22 = [ 0.51524214 -0.17969545  0.65517793] n22 = [ 0.70710678 -0.34815531  0.61545745]\n",
      "\t v23 = [0.42563481 0.59377627 0.73345362] n23 = [ 0.70710678 -0.34815531  0.61545745]\n"
     ]
    }
   ],
   "source": [
    "P = camera.projection()\n",
    " \n",
    "cubo.projetar(P)\n",
    "cubo.ShowConfigurations()"
   ]
  },
  {
   "cell_type": "code",
   "execution_count": 10,
   "metadata": {},
   "outputs": [],
   "source": [
    "cube_vertex = cubo.get_vertices()\n",
    "canvas_vertex = []\n",
    "for i in range(cube_vertex.shape[0]):\n",
    "    vertex = cube_vertex[i]\n",
    "    vc = camera.to_canvas(vertex[0],vertex[1],vertex[2])\n",
    "    canvas_vertex.append(vc)\n",
    "    \n",
    "    \n",
    "canvas_vertex = np.array(canvas_vertex)"
   ]
  },
  {
   "cell_type": "code",
   "execution_count": 11,
   "metadata": {},
   "outputs": [
    {
     "data": {
      "image/png": "[encoded data removed]",
      "text/plain": [
       "<Figure size 432x288 with 1 Axes>"
      ]
     },
     "metadata": {
      "needs_background": "light"
     },
     "output_type": "display_data"
    }
   ],
   "source": [
    "#example = plt.imread(canvasprint.jpg)\n",
    "#plt.imgshow(example)\n",
    "plt.scatter(canvas_vertex[:,0],canvas_vertex[:,1])\n",
    "plt.show()"
   ]
  },
  {
   "cell_type": "code",
   "execution_count": 21,
   "metadata": {},
   "outputs": [
    {
     "data": {
      "image/png": "[encoded data removed]",
      "text/plain": [
       "<Figure size 432x288 with 1 Axes>"
      ]
     },
     "metadata": {
      "needs_background": "light"
     },
     "output_type": "display_data"
    }
   ],
   "source": [
    "cube_triangles = cubo.get_triangles()\n",
    "\n",
    "for triangle in cube_triangles:\n",
    "    \n",
    "    vertex1 = canvas_vertex[triangle[0]]\n",
    "    vertex2 = canvas_vertex[triangle[1]]\n",
    "    vertex3 = canvas_vertex[triangle[2]]\n",
    "    \n",
    "    plt.plot([vertex1[0],vertex2[0]], [vertex1[1],vertex2[1]])\n",
    "    plt.plot([vertex2[0],vertex3[0]], [vertex2[1],vertex3[1]])\n",
    "    plt.plot([vertex3[0],vertex1[0]], [vertex3[1],vertex1[1]])\n",
    "                                        \n",
    "    #plt.plot(vertex1[0],vertex1[1],vertex2[0],vertex2[1],linestyle='dotted')\n",
    "    #plt.plot(vertex2[0],vertex2[1],vertex3[0],vertex3[1],linestyle='dotted')\n",
    "    #plt.plot(vertex3[0],vertex3[1],vertex1[0],vertex1[1],linestyle='dotted')\n",
    "                                        \n",
    "                                        \n",
    "    #plt.axline((vertex1[0],vertex1[1]),((vertex2[0],vertex2[1])))\n",
    "    #plt.axline((vertex2[0],vertex2[1]),((vertex3[0],vertex3[1])))\n",
    "    #plt.axline((vertex3[0],vertex3[1]),((vertex1[0],vertex1[1])))\n",
    "\n",
    "#plt.imshow(example)\n",
    "plt.show()"
   ]
  },
  {
   "cell_type": "code",
   "execution_count": null,
   "metadata": {},
   "outputs": [],
   "source": [
    "class Luz:\n",
    "    def __init__(self,posicao,intensidade):\n",
    "        self.posicao = posicao\n",
    "        self.intensidade = intensidade\n",
    "        \n",
    "    def show(self):\n",
    "        print(\"LUZ:\")\n",
    "        print(f\"posicao = {self.posicao}\")\n",
    "        print(f\"intensidade = {self.intensidade}\")\n",
    "        \n",
    "    def get_pos(self):\n",
    "        return self.posicao\n",
    "    \n",
    "    def get_intensidade(self):\n",
    "        return self.intensidade\n",
    "        \n",
    "    "
   ]
  },
  {
   "cell_type": "code",
   "execution_count": null,
   "metadata": {},
   "outputs": [],
   "source": [
    "posicao = vetor(0.5,2.,0.)\n",
    "ambiente = vetor(0.2,0.2,0.2)\n",
    "intensidade = vetor(1,1,1) \n",
    "\n",
    "luz = Luz(posicao, intensidade)\n",
    "luz.show()"
   ]
  },
  {
   "cell_type": "code",
   "execution_count": null,
   "metadata": {},
   "outputs": [],
   "source": [
    " "
   ]
  }
 ],
 "metadata": {
  "kernelspec": {
   "display_name": "Python 3",
   "language": "python",
   "name": "python3"
  },
  "language_info": {
   "codemirror_mode": {
    "name": "ipython",
    "version": 3
   },
   "file_extension": ".py",
   "mimetype": "text/x-python",
   "name": "python",
   "nbconvert_exporter": "python",
   "pygments_lexer": "ipython3",
   "version": "3.8.5"
  }
 },
 "nbformat": 4,
 "nbformat_minor": 5
}
