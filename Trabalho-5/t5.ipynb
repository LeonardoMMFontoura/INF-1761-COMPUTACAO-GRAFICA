{
 "cells": [
  {
   "cell_type": "code",
   "execution_count": 1,
   "metadata": {},
   "outputs": [],
   "source": [
    "#Imports\n",
    "import numpy as np\n",
    "import matplotlib.pyplot as plt\n",
    "import sys\n",
    "import math\n",
    "import copy"
   ]
  },
  {
   "cell_type": "code",
   "execution_count": 2,
   "metadata": {},
   "outputs": [],
   "source": [
    "from algebra import *\n",
    "from cube import *"
   ]
  },
  {
   "cell_type": "code",
   "execution_count": 3,
   "metadata": {},
   "outputs": [],
   "source": [
    "#Definições\n",
    "TOL = sys.float_info.epsilon"
   ]
  },
  {
   "cell_type": "code",
   "execution_count": 4,
   "metadata": {},
   "outputs": [],
   "source": [
    "class Camera:\n",
    "    def __init__(self,fov,w,h,near,far, eye,at,up):\n",
    "        self.fov = fov\n",
    "        self.w = w\n",
    "        self.h = h\n",
    "        self.near = near\n",
    "        self.far = far\n",
    "        self.a = 2*near*np.tan(fov*np.pi/360)\n",
    "        self.b = self.a*w/h\n",
    "        self.eye = eye\n",
    "        self.ze = unitario(at-eye)\n",
    "        self.xe = unitario(cross(self.ze,up))\n",
    "        self.ye = cross(self.ze,self.xe)\n",
    "        self.img = np.full((h,w,3),0,dtype=np.float64)\n",
    "        self.zbuffer = np.full((h,w,3),np.inf,dtype=np.float64)\n",
    "        \n",
    "    def show(self):\n",
    "        print(\"CAMERA\")\n",
    "        print(f'fov={self.fov}, n={self.near},f={self.far}')\n",
    "        print(f'(w,h)=({self.w},{self.h})')\n",
    "        print(f'(b,a)=({self.b},{self.a})')\n",
    "        print(f'xe={self.xe}')\n",
    "        print(f'ye={self.ye}')\n",
    "        print(f'ze={self.ze}') \n",
    "    \n",
    "    def LookAt(self):\n",
    "        I = identidade()\n",
    "        R = mudanca_de_base(I,self.xe,self.ye,self.ze)\n",
    "        Lat = translada(R,-self.eye[0],-self.eye[1],-self.eye[2])\n",
    "        return Lat\n",
    "    \n",
    "    def projection(self):\n",
    "        P = identidade()\n",
    "        P[1,1] = 1/np.tan(self.fov*np.pi/360)\n",
    "        P[0,0] = P[1,1]*(self.h/self.w)\n",
    "        P[2,2] = (self.far+self.near)/(self.far-self.near)\n",
    "        P[2,3] = -2*self.far*self.near/(self.far-self.near)\n",
    "        P[3,2] = 1\n",
    "        P[3,3] = 0\n",
    "        return P\n",
    "    \n",
    "    def to_canvas(self, xn,yn,zn):\n",
    "        xc = int(round((self.w-1)*(xn + 1)/2))\n",
    "        yc = int(round((self.h-1)*(yn + 1)/2))\n",
    "        zc = int(round((65536 - 1)*(zn + 1)/2))\n",
    "        \n",
    "        return np.array([xc,yc,zc],dtype=int)\n",
    "        \n",
    "    def ray_to(self,x,y):\n",
    "        dx = self.b*(x/self.w-0.5)\n",
    "        dy = self.a*(y/self.h-0.5)\n",
    "        dz = self.near\n",
    "        ray = dx*self.xe+dy*self.ye+dz*self.ze\n",
    "        return ray\n",
    "\n",
    "    def get_eye(self):\n",
    "        return self.eye\n",
    "\n",
    "    def get_pixel(self,x,y):\n",
    "        return self.img[y,x,:]\n",
    "\n",
    "    def set_pixel(self,x,y,rgb):\n",
    "        self.img[y,x,:]=rgb\n",
    "\n",
    "    def add_pixel(self,x,y,rgb):\n",
    "        self.img[y,x,:]+=rgb\n",
    "\n",
    "    def get_w(self):\n",
    "        return self.w\n",
    "\n",
    "    def get_h(self):\n",
    "        return self.h\n",
    "\n",
    "    def imshow(self):\n",
    "        img_max = np.amax(self.img)\n",
    "        if img_max < TOL:\n",
    "            print(\"Imagem Zerada\")\n",
    "        self.img = self.img/img_max\n",
    "        plt.imshow(self.img)\n",
    "        plt.show()\n",
    "    "
   ]
  },
  {
   "cell_type": "code",
   "execution_count": 5,
   "metadata": {},
   "outputs": [
    {
     "name": "stdout",
     "output_type": "stream",
     "text": [
      "CAMERA\n",
      "fov=45, n=0.5,f=10\n",
      "(w,h)=(640,480)\n",
      "(b,a)=(0.5522847498307933,0.41421356237309503)\n",
      "xe=[-0.70710678  0.70710678  0.        ]\n",
      "ye=[ 0.34815531  0.34815531 -0.87038828]\n",
      "ze=[-0.61545745 -0.61545745 -0.49236596]\n"
     ]
    }
   ],
   "source": [
    "eye = vetor(1.5,1.5,1.2)\n",
    "at = vetor(0,0,0)\n",
    "up = vetor(0,0,1) \n",
    "\n",
    "camera = Camera(45,640,480,0.5,10,eye,at,up)\n",
    "camera.show() "
   ]
  },
  {
   "cell_type": "code",
   "execution_count": 6,
   "metadata": {},
   "outputs": [],
   "source": [
    "class Material:\n",
    "    def __init__(self, ambient, diffuse, specular, shiness):\n",
    "        self.ambient = ambient\n",
    "        self.diffuse = diffuse\n",
    "        self.specular = specular\n",
    "        self.shiness = shiness\n",
    "        \n",
    "    def show(self):\n",
    "        print(f'{self.ambient} = ambient')\n",
    "        print(f'{self.diffuse} = diffuse')\n",
    "        print(f'{self.specular} = specular')\n",
    "        print(f'{self.shiness} = shiness')\n",
    "        \n",
    "    def get_values(self):\n",
    "        return self.ambient, self.diffuse, self.specular, self.shiness\n",
    "    "
   ]
  },
  {
   "cell_type": "code",
   "execution_count": 7,
   "metadata": {},
   "outputs": [],
   "source": [
    "brass= Material(vetor(0.33,0.22,0.03),vetor(0.78,0.57,0.11),vetor(0.99,0.91,0.81),27.8)"
   ]
  },
  {
   "cell_type": "code",
   "execution_count": 8,
   "metadata": {},
   "outputs": [],
   "source": [
    "class ObjectBuffer:\n",
    "    \"\"\"\n",
    "    Armazena um conjunto de primitivas necessárias para instanciar um objeto na cena\n",
    "    \n",
    "    Parameters:\n",
    "        vertex (np.array): Conjunto de Verticies do Objeto (Coordenadas)\n",
    "        triangles (np.array): Indices de cada Conjunto de verticies do triangulo\n",
    "        normals (np.array): Conjunto de normais de cada vertice\n",
    "        materiais (np.array): Materiais de cada triangulo\n",
    "    Returns:\n",
    "        ObjectBuffer: Instância do ObjectBuffer\n",
    "    \"\"\"\n",
    "    def __init__(self, vertex, triangles, normals, material):\n",
    "        self.vertex = copy.deepcopy(vertex)\n",
    "        self.color = np.zeros(shape=vertex.shape,dtype= np.float64)\n",
    "        self.triangles = copy.deepcopy(triangles)\n",
    "        self.normals = copy.deepcopy(normals)\n",
    "        self.material = copy.deepcopy(material)\n",
    "        self.Mview = identidade()\n",
    "    \n",
    "    def ShowConfigurations(self, verbose = True):\n",
    "        print(\"Coordernadas: \")\n",
    "        for i in range(self.vertex.shape[0]):\n",
    "            print(f\"\\t v{i} = {self.vertex[i,:]} n{i} = {self.normals[i, :]}\")\n",
    "        \n",
    "        if(verbose):\n",
    "            print(\"Triângulos: \")\n",
    "            for i in range(self.triangles.shape[0]):\n",
    "                print(f\"\\t t{i} = {self.triangles[i,:]}\")\n",
    "    \n",
    "            print(\"Material\")\n",
    "            self.material.show()\n",
    "    \n",
    "    \n",
    "    def transforma(self,M):\n",
    "        self.mview = copy.deepcopy(M)\n",
    "        for i, v in enumerate(self.vertex):\n",
    "            vp = to_projetivo(v)\n",
    "            up = np.dot(M,vp)\n",
    "            uc = to_cartesiano(up)\n",
    "            self.vertex[i,:]=uc\n",
    "            \n",
    "        Minvt = np.linalg.inv(M.T)\n",
    "        for i,normal in enumerate(self.normals):\n",
    "            nh = to_projetivo(normal)\n",
    "            nh = np.dot(Minvt,nh)\n",
    "            nc = vetor(nh[0],nh[1],nh[2])\n",
    "            nc = unitario(nc)\n",
    "            self.normals[i,:]=nc\n",
    "    \n",
    "    def projetar(self,P):\n",
    "        self.projection = copy.deepcopy(P)\n",
    "        \n",
    "        for i in range(len(self.vertex)):\n",
    "            vertex = self.vertex[i]\n",
    "            vp = to_projetivo(vertex)\n",
    "            up = np.dot(P, vp)\n",
    "            uc = to_cartesiano(up)\n",
    "            \n",
    "            self.vertex[i,:]=uc\n",
    "    \n",
    "    \n",
    "    def get_vertices(self):\n",
    "        return self.vertex\n",
    "    \n",
    "    def get_normals(self):\n",
    "        return self.normals\n",
    "    \n",
    "    def get_triangles(self):\n",
    "        return self.triangles\n",
    "    \n",
    "    def get_material(self):\n",
    "        return self.material\n",
    "        \n"
   ]
  },
  {
   "cell_type": "code",
   "execution_count": 9,
   "metadata": {},
   "outputs": [
    {
     "name": "stdout",
     "output_type": "stream",
     "text": [
      "Coordernadas: \n",
      "\t v0 = [-1. -1.  1.] n0 = [0. 0. 1.]\n",
      "\t v1 = [ 1. -1.  1.] n1 = [0. 0. 1.]\n",
      "\t v2 = [1. 1. 1.] n2 = [0. 0. 1.]\n",
      "\t v3 = [-1.  1.  1.] n3 = [0. 0. 1.]\n",
      "\t v4 = [-1. -1. -1.] n4 = [ 0.  0. -1.]\n",
      "\t v5 = [-1.  1. -1.] n5 = [ 0.  0. -1.]\n",
      "\t v6 = [ 1.  1. -1.] n6 = [ 0.  0. -1.]\n",
      "\t v7 = [ 1. -1. -1.] n7 = [ 0.  0. -1.]\n",
      "\t v8 = [-1.  1. -1.] n8 = [0. 1. 0.]\n",
      "\t v9 = [-1.  1.  1.] n9 = [0. 1. 0.]\n",
      "\t v10 = [1. 1. 1.] n10 = [0. 1. 0.]\n",
      "\t v11 = [ 1.  1. -1.] n11 = [0. 1. 0.]\n",
      "\t v12 = [-1. -1. -1.] n12 = [ 0. -1.  0.]\n",
      "\t v13 = [ 1. -1. -1.] n13 = [ 0. -1.  0.]\n",
      "\t v14 = [ 1. -1.  1.] n14 = [ 0. -1.  0.]\n",
      "\t v15 = [-1. -1.  1.] n15 = [ 0. -1.  0.]\n",
      "\t v16 = [ 1. -1. -1.] n16 = [1. 0. 0.]\n",
      "\t v17 = [ 1.  1. -1.] n17 = [1. 0. 0.]\n",
      "\t v18 = [1. 1. 1.] n18 = [1. 0. 0.]\n",
      "\t v19 = [ 1. -1.  1.] n19 = [1. 0. 0.]\n",
      "\t v20 = [-1. -1. -1.] n20 = [-1.  0.  0.]\n",
      "\t v21 = [-1. -1.  1.] n21 = [-1.  0.  0.]\n",
      "\t v22 = [-1.  1.  1.] n22 = [-1.  0.  0.]\n",
      "\t v23 = [-1.  1. -1.] n23 = [-1.  0.  0.]\n",
      "Triângulos: \n",
      "\t t0 = [0 1 2]\n",
      "\t t1 = [0 2 3]\n",
      "\t t2 = [4 5 6]\n",
      "\t t3 = [4 6 7]\n",
      "\t t4 = [ 8  9 10]\n",
      "\t t5 = [ 8 10 11]\n",
      "\t t6 = [12 13 14]\n",
      "\t t7 = [12 14 15]\n",
      "\t t8 = [16 17 18]\n",
      "\t t9 = [16 18 19]\n",
      "\t t10 = [20 21 22]\n",
      "\t t11 = [20 22 23]\n",
      "Material\n",
      "[0.33 0.22 0.03] = ambient\n",
      "[0.78 0.57 0.11] = diffuse\n",
      "[0.99 0.91 0.81] = specular\n",
      "27.8 = shiness\n"
     ]
    }
   ],
   "source": [
    "cubo = ObjectBuffer(vertices, indices, normals,brass)\n",
    "cubo.ShowConfigurations()"
   ]
  },
  {
   "cell_type": "code",
   "execution_count": 10,
   "metadata": {},
   "outputs": [],
   "source": [
    "class Luz:\n",
    "    def __init__(self,position,ambient,diffuse,specular):\n",
    "        self.position = position\n",
    "        self.ambient = ambient\n",
    "        self.diffuse = diffuse\n",
    "        self.specular = specular \n",
    "        \n",
    "    def show(self):\n",
    "        print(\"LUZ:\")\n",
    "        print(f'{self.position} = position')\n",
    "        print(f'{self.ambient} = ambient')\n",
    "        print(f'{self.diffuse} = diffuse')\n",
    "        print(f'{self.specular} = specular')\n",
    "        \n",
    "    def get_pos(self):\n",
    "        return self.position\n",
    "    \n",
    "    def get_values(self):\n",
    "        return self.ambient,self.diffuse,self.specular"
   ]
  },
  {
   "cell_type": "code",
   "execution_count": 11,
   "metadata": {},
   "outputs": [
    {
     "name": "stdout",
     "output_type": "stream",
     "text": [
      "LUZ:\n",
      "[0.5 2.  0. ] = position\n",
      "[0.2 0.2 0.2] = ambient\n",
      "[1. 1. 1.] = diffuse\n",
      "[1. 1. 1.] = specular\n"
     ]
    }
   ],
   "source": [
    "position = vetor(0.5,2,0)\n",
    "low = vetor(0.2,0.2,0.2)\n",
    "white = vetor(1,1,1)\n",
    "luz = Luz(position,low,white,white)\n",
    "luz.show()"
   ]
  },
  {
   "cell_type": "code",
   "execution_count": 12,
   "metadata": {},
   "outputs": [
    {
     "name": "stdout",
     "output_type": "stream",
     "text": [
      "Coordernadas: \n",
      "\t v0 = [-0.5 -0.5  0.5] n0 = [0. 0. 1.]\n",
      "\t v1 = [ 0.5 -0.5  0.5] n1 = [0. 0. 1.]\n",
      "\t v2 = [0.5 0.5 0.5] n2 = [0. 0. 1.]\n",
      "\t v3 = [-0.5  0.5  0.5] n3 = [0. 0. 1.]\n",
      "\t v4 = [-0.5 -0.5 -0.5] n4 = [ 0.  0. -1.]\n",
      "\t v5 = [-0.5  0.5 -0.5] n5 = [ 0.  0. -1.]\n",
      "\t v6 = [ 0.5  0.5 -0.5] n6 = [ 0.  0. -1.]\n",
      "\t v7 = [ 0.5 -0.5 -0.5] n7 = [ 0.  0. -1.]\n",
      "\t v8 = [-0.5  0.5 -0.5] n8 = [0. 1. 0.]\n",
      "\t v9 = [-0.5  0.5  0.5] n9 = [0. 1. 0.]\n",
      "\t v10 = [0.5 0.5 0.5] n10 = [0. 1. 0.]\n",
      "\t v11 = [ 0.5  0.5 -0.5] n11 = [0. 1. 0.]\n",
      "\t v12 = [-0.5 -0.5 -0.5] n12 = [ 0. -1.  0.]\n",
      "\t v13 = [ 0.5 -0.5 -0.5] n13 = [ 0. -1.  0.]\n",
      "\t v14 = [ 0.5 -0.5  0.5] n14 = [ 0. -1.  0.]\n",
      "\t v15 = [-0.5 -0.5  0.5] n15 = [ 0. -1.  0.]\n",
      "\t v16 = [ 0.5 -0.5 -0.5] n16 = [1. 0. 0.]\n",
      "\t v17 = [ 0.5  0.5 -0.5] n17 = [1. 0. 0.]\n",
      "\t v18 = [0.5 0.5 0.5] n18 = [1. 0. 0.]\n",
      "\t v19 = [ 0.5 -0.5  0.5] n19 = [1. 0. 0.]\n",
      "\t v20 = [-0.5 -0.5 -0.5] n20 = [-1.  0.  0.]\n",
      "\t v21 = [-0.5 -0.5  0.5] n21 = [-1.  0.  0.]\n",
      "\t v22 = [-0.5  0.5  0.5] n22 = [-1.  0.  0.]\n",
      "\t v23 = [-0.5  0.5 -0.5] n23 = [-1.  0.  0.]\n",
      "Triângulos: \n",
      "\t t0 = [0 1 2]\n",
      "\t t1 = [0 2 3]\n",
      "\t t2 = [4 5 6]\n",
      "\t t3 = [4 6 7]\n",
      "\t t4 = [ 8  9 10]\n",
      "\t t5 = [ 8 10 11]\n",
      "\t t6 = [12 13 14]\n",
      "\t t7 = [12 14 15]\n",
      "\t t8 = [16 17 18]\n",
      "\t t9 = [16 18 19]\n",
      "\t t10 = [20 21 22]\n",
      "\t t11 = [20 22 23]\n",
      "Material\n",
      "[0.33 0.22 0.03] = ambient\n",
      "[0.78 0.57 0.11] = diffuse\n",
      "[0.99 0.91 0.81] = specular\n",
      "27.8 = shiness\n"
     ]
    }
   ],
   "source": [
    "model = identidade()\n",
    "model = escala(model,0.5,0.5,0.5)\n",
    "cubo.transforma(model)\n",
    "cubo.ShowConfigurations()"
   ]
  },
  {
   "cell_type": "code",
   "execution_count": 13,
   "metadata": {},
   "outputs": [
    {
     "name": "stdout",
     "output_type": "stream",
     "text": [
      "0 [17. 11.  2.]\n",
      "1 [17. 11.  2.]\n",
      "2 [17. 11.  2.]\n",
      "3 [17. 11.  2.]\n",
      "8 [176. 128.  24.]\n",
      "9 [176. 128.  24.]\n",
      "10 [206. 149.  28.]\n",
      "11 [206. 149.  28.]\n",
      "16 [17. 11.  2.]\n",
      "17 [17. 11.  2.]\n",
      "18 [17. 11.  2.]\n",
      "19 [17. 11.  2.]\n"
     ]
    }
   ],
   "source": [
    "vertices = cubo.get_vertices()\n",
    "normals = cubo.get_normals()\n",
    "\n",
    "eye = camera.get_eye()\n",
    "pos_luz = luz.get_pos()\n",
    "lamb, ldiff, lspec = luz.get_values()\n",
    "mat = cubo.get_material()\n",
    "ka,kd,ks,ns = mat.get_values()\n",
    "for i,vertice in enumerate(vertices):\n",
    "    normal = normals[i]\n",
    "    veye = unitario(eye-vertice)\n",
    "    vluz = unitario(pos_luz-vertice)\n",
    "    rluz = reflete(vluz, normal)\n",
    "    vcor = lamb*ka\n",
    "    cosLN = np.dot(vluz, normal)\n",
    "    if (cosLN>0):\n",
    "        vcor += ldiff*kd*cosLN\n",
    "        cosRE = np.dot(rluz, veye)\n",
    "        if cosRE>0:\n",
    "            vcor+= lspec*ks*(cosRE**ns)\n",
    "    if(np.dot(normal,veye)>0):\n",
    "        print(i,np.rint(255*vcor))"
   ]
  },
  {
   "cell_type": "code",
   "execution_count": 14,
   "metadata": {},
   "outputs": [
    {
     "name": "stdout",
     "output_type": "stream",
     "text": [
      "Coordernadas: \n",
      "\t v0 = [ 0.         -0.52223297  2.95419578] n0 = [-5.26588286e-17 -8.70388280e-01 -4.92365964e-01]\n",
      "\t v1 = [-0.70710678 -0.17407766  2.33873833] n1 = [-5.26588286e-17 -8.70388280e-01 -4.92365964e-01]\n",
      "\t v2 = [0.         0.17407766 1.72328087] n2 = [-5.26588286e-17 -8.70388280e-01 -4.92365964e-01]\n",
      "\t v3 = [ 0.70710678 -0.17407766  2.33873833] n3 = [-5.26588286e-17 -8.70388280e-01 -4.92365964e-01]\n",
      "\t v4 = [0.         0.34815531 3.44656175] n4 = [5.26588286e-17 8.70388280e-01 4.92365964e-01]\n",
      "\t v5 = [0.70710678 0.69631062 2.83110429] n5 = [5.26588286e-17 8.70388280e-01 4.92365964e-01]\n",
      "\t v6 = [0.         1.04446594 2.21564684] n6 = [5.26588286e-17 8.70388280e-01 4.92365964e-01]\n",
      "\t v7 = [-0.70710678  0.69631062  2.83110429] n7 = [5.26588286e-17 8.70388280e-01 4.92365964e-01]\n",
      "\t v8 = [0.70710678 0.69631062 2.83110429] n8 = [ 0.70710678  0.34815531 -0.61545745]\n",
      "\t v9 = [ 0.70710678 -0.17407766  2.33873833] n9 = [ 0.70710678  0.34815531 -0.61545745]\n",
      "\t v10 = [0.         0.17407766 1.72328087] n10 = [ 0.70710678  0.34815531 -0.61545745]\n",
      "\t v11 = [0.         1.04446594 2.21564684] n11 = [ 0.70710678  0.34815531 -0.61545745]\n",
      "\t v12 = [0.         0.34815531 3.44656175] n12 = [-0.70710678 -0.34815531  0.61545745]\n",
      "\t v13 = [-0.70710678  0.69631062  2.83110429] n13 = [-0.70710678 -0.34815531  0.61545745]\n",
      "\t v14 = [-0.70710678 -0.17407766  2.33873833] n14 = [-0.70710678 -0.34815531  0.61545745]\n",
      "\t v15 = [ 0.         -0.52223297  2.95419578] n15 = [-0.70710678 -0.34815531  0.61545745]\n",
      "\t v16 = [-0.70710678  0.69631062  2.83110429] n16 = [-0.70710678  0.34815531 -0.61545745]\n",
      "\t v17 = [0.         1.04446594 2.21564684] n17 = [-0.70710678  0.34815531 -0.61545745]\n",
      "\t v18 = [0.         0.17407766 1.72328087] n18 = [-0.70710678  0.34815531 -0.61545745]\n",
      "\t v19 = [-0.70710678 -0.17407766  2.33873833] n19 = [-0.70710678  0.34815531 -0.61545745]\n",
      "\t v20 = [0.         0.34815531 3.44656175] n20 = [ 0.70710678 -0.34815531  0.61545745]\n",
      "\t v21 = [ 0.         -0.52223297  2.95419578] n21 = [ 0.70710678 -0.34815531  0.61545745]\n",
      "\t v22 = [ 0.70710678 -0.17407766  2.33873833] n22 = [ 0.70710678 -0.34815531  0.61545745]\n",
      "\t v23 = [0.70710678 0.69631062 2.83110429] n23 = [ 0.70710678 -0.34815531  0.61545745]\n",
      "Triângulos: \n",
      "\t t0 = [0 1 2]\n",
      "\t t1 = [0 2 3]\n",
      "\t t2 = [4 5 6]\n",
      "\t t3 = [4 6 7]\n",
      "\t t4 = [ 8  9 10]\n",
      "\t t5 = [ 8 10 11]\n",
      "\t t6 = [12 13 14]\n",
      "\t t7 = [12 14 15]\n",
      "\t t8 = [16 17 18]\n",
      "\t t9 = [16 18 19]\n",
      "\t t10 = [20 21 22]\n",
      "\t t11 = [20 22 23]\n",
      "Material\n",
      "[0.33 0.22 0.03] = ambient\n",
      "[0.78 0.57 0.11] = diffuse\n",
      "[0.99 0.91 0.81] = specular\n",
      "27.8 = shiness\n"
     ]
    }
   ],
   "source": [
    "view = camera.LookAt()\n",
    "cubo.transforma(view)\n",
    "cubo.ShowConfigurations()"
   ]
  },
  {
   "cell_type": "code",
   "execution_count": 15,
   "metadata": {},
   "outputs": [
    {
     "name": "stdout",
     "output_type": "stream",
     "text": [
      "[1.06066017 1.13150476 1.04627767]\n",
      "0 [17. 11.  2.]\n",
      "1 [17. 11.  2.]\n",
      "2 [17. 11.  2.]\n",
      "3 [17. 11.  2.]\n",
      "8 [176. 128.  24.]\n",
      "9 [176. 128.  24.]\n",
      "10 [206. 149.  28.]\n",
      "11 [206. 149.  28.]\n",
      "16 [17. 11.  2.]\n",
      "17 [17. 11.  2.]\n",
      "18 [17. 11.  2.]\n",
      "19 [17. 11.  2.]\n"
     ]
    }
   ],
   "source": [
    "vertices = cubo.get_vertices()\n",
    "normals = cubo.get_normals()\n",
    "pos_luz = luz.get_pos()\n",
    "pos_luz = to_cartesiano(np.dot(view,to_projetivo(pos_luz)))\n",
    "print(pos_luz)\n",
    "lamb, ldiff, lspec = luz.get_values()\n",
    "mat = cubo.get_material()\n",
    "ka,kd,ks,ns = mat.get_values()\n",
    "for i,vertice in enumerate(vertices):\n",
    "    normal = normals[i]\n",
    "    veye = unitario(-vertice)\n",
    "    vluz = unitario(pos_luz-vertice)\n",
    "    rluz = reflete(vluz, normal)\n",
    "    vcor = lamb*ka\n",
    "    cosLN = np.dot(vluz, normal)\n",
    "    if (cosLN>0):\n",
    "        vcor += ldiff*kd*cosLN\n",
    "        cosRE = np.dot(rluz, veye)\n",
    "        if cosRE>0:\n",
    "            vcor+= lspec*ks*(cosRE**ns)\n",
    "    if(np.dot(normal,veye)>0):\n",
    "        print(i,np.rint(255*vcor))"
   ]
  },
  {
   "cell_type": "code",
   "execution_count": 16,
   "metadata": {},
   "outputs": [
    {
     "name": "stdout",
     "output_type": "stream",
     "text": [
      "Coordernadas: \n",
      "\t v0 = [ 0.         -0.4267767   0.74894568] n0 = [-5.26588286e-17 -8.70388280e-01 -4.92365964e-01]\n",
      "\t v1 = [-0.54744478 -0.17969545  0.65517793] n1 = [-5.26588286e-17 -8.70388280e-01 -4.92365964e-01]\n",
      "\t v2 = [0.        0.2438724 0.4944332] n2 = [-5.26588286e-17 -8.70388280e-01 -4.92365964e-01]\n",
      "\t v3 = [ 0.54744478 -0.17969545  0.65517793] n3 = [-5.26588286e-17 -8.70388280e-01 -4.92365964e-01]\n",
      "\t v4 = [0.         0.2438724  0.79984818] n4 = [5.26588286e-17 8.70388280e-01 4.92365964e-01]\n",
      "\t v5 = [0.45223699 0.59377627 0.73345362] n5 = [5.26588286e-17 8.70388280e-01 4.92365964e-01]\n",
      "\t v6 = [0.         1.13807119 0.63017319] n6 = [5.26588286e-17 8.70388280e-01 4.92365964e-01]\n",
      "\t v7 = [-0.45223699  0.59377627  0.73345362] n7 = [5.26588286e-17 8.70388280e-01 4.92365964e-01]\n",
      "\t v8 = [0.45223699 0.59377627 0.73345362] n8 = [ 0.70710678  0.34815531 -0.61545745]\n",
      "\t v9 = [ 0.54744478 -0.17969545  0.65517793] n9 = [ 0.70710678  0.34815531 -0.61545745]\n",
      "\t v10 = [0.        0.2438724 0.4944332] n10 = [ 0.70710678  0.34815531 -0.61545745]\n",
      "\t v11 = [0.         1.13807119 0.63017319] n11 = [ 0.70710678  0.34815531 -0.61545745]\n",
      "\t v12 = [0.         0.2438724  0.79984818] n12 = [-0.70710678 -0.34815531  0.61545745]\n",
      "\t v13 = [-0.45223699  0.59377627  0.73345362] n13 = [-0.70710678 -0.34815531  0.61545745]\n",
      "\t v14 = [-0.54744478 -0.17969545  0.65517793] n14 = [-0.70710678 -0.34815531  0.61545745]\n",
      "\t v15 = [ 0.         -0.4267767   0.74894568] n15 = [-0.70710678 -0.34815531  0.61545745]\n",
      "\t v16 = [-0.45223699  0.59377627  0.73345362] n16 = [-0.70710678  0.34815531 -0.61545745]\n",
      "\t v17 = [0.         1.13807119 0.63017319] n17 = [-0.70710678  0.34815531 -0.61545745]\n",
      "\t v18 = [0.        0.2438724 0.4944332] n18 = [-0.70710678  0.34815531 -0.61545745]\n",
      "\t v19 = [-0.54744478 -0.17969545  0.65517793] n19 = [-0.70710678  0.34815531 -0.61545745]\n",
      "\t v20 = [0.         0.2438724  0.79984818] n20 = [ 0.70710678 -0.34815531  0.61545745]\n",
      "\t v21 = [ 0.         -0.4267767   0.74894568] n21 = [ 0.70710678 -0.34815531  0.61545745]\n",
      "\t v22 = [ 0.54744478 -0.17969545  0.65517793] n22 = [ 0.70710678 -0.34815531  0.61545745]\n",
      "\t v23 = [0.45223699 0.59377627 0.73345362] n23 = [ 0.70710678 -0.34815531  0.61545745]\n",
      "Triângulos: \n",
      "\t t0 = [0 1 2]\n",
      "\t t1 = [0 2 3]\n",
      "\t t2 = [4 5 6]\n",
      "\t t3 = [4 6 7]\n",
      "\t t4 = [ 8  9 10]\n",
      "\t t5 = [ 8 10 11]\n",
      "\t t6 = [12 13 14]\n",
      "\t t7 = [12 14 15]\n",
      "\t t8 = [16 17 18]\n",
      "\t t9 = [16 18 19]\n",
      "\t t10 = [20 21 22]\n",
      "\t t11 = [20 22 23]\n",
      "Material\n",
      "[0.33 0.22 0.03] = ambient\n",
      "[0.78 0.57 0.11] = diffuse\n",
      "[0.99 0.91 0.81] = specular\n",
      "27.8 = shiness\n"
     ]
    }
   ],
   "source": [
    "P = camera.projection()\n",
    "cubo.projetar(P)\n",
    "cubo.ShowConfigurations()"
   ]
  },
  {
   "cell_type": "code",
   "execution_count": 17,
   "metadata": {},
   "outputs": [],
   "source": [
    "cube_vertex = cubo.get_vertices()\n",
    "canvas_vertex = []\n",
    "for i in range(cube_vertex.shape[0]):\n",
    "    vertex = cube_vertex[i]\n",
    "    vc = camera.to_canvas(vertex[0],vertex[1],vertex[2])\n",
    "    canvas_vertex.append(vc)\n",
    "    \n",
    "    \n",
    "canvas_vertex = np.array(canvas_vertex)"
   ]
  },
  {
   "cell_type": "code",
   "execution_count": 18,
   "metadata": {},
   "outputs": [
    {
     "data": {
      "image/png": "[encoded data removed]",
      "text/plain": [
       "<Figure size 432x288 with 1 Axes>"
      ]
     },
     "metadata": {
      "needs_background": "light"
     },
     "output_type": "display_data"
    }
   ],
   "source": [
    "#example = plt.imread(canvasprint.jpg)\n",
    "#plt.imgshow(example)\n",
    "plt.scatter(canvas_vertex[:,0],canvas_vertex[:,1])\n",
    "plt.show()"
   ]
  },
  {
   "cell_type": "code",
   "execution_count": 19,
   "metadata": {},
   "outputs": [
    {
     "data": {
      "image/png": "[encoded data removed]",
      "text/plain": [
       "<Figure size 432x288 with 1 Axes>"
      ]
     },
     "metadata": {
      "needs_background": "light"
     },
     "output_type": "display_data"
    }
   ],
   "source": [
    "cube_triangles = cubo.get_triangles()\n",
    "\n",
    "for triangle in cube_triangles:\n",
    "    \n",
    "    vertex1 = canvas_vertex[triangle[0]]\n",
    "    vertex2 = canvas_vertex[triangle[1]]\n",
    "    vertex3 = canvas_vertex[triangle[2]]\n",
    "    \n",
    "    plt.plot([vertex1[0],vertex2[0]], [vertex1[1],vertex2[1]])\n",
    "    plt.plot([vertex2[0],vertex3[0]], [vertex2[1],vertex3[1]])\n",
    "    plt.plot([vertex3[0],vertex1[0]], [vertex3[1],vertex1[1]])\n",
    "                                        \n",
    "    #plt.plot(vertex1[0],vertex1[1],vertex2[0],vertex2[1],linestyle='dotted')\n",
    "    #plt.plot(vertex2[0],vertex2[1],vertex3[0],vertex3[1],linestyle='dotted')\n",
    "    #plt.plot(vertex3[0],vertex3[1],vertex1[0],vertex1[1],linestyle='dotted')\n",
    "                                        \n",
    "                                        \n",
    "    #plt.axline((vertex1[0],vertex1[1]),((vertex2[0],vertex2[1])))\n",
    "    #plt.axline((vertex2[0],vertex2[1]),((vertex3[0],vertex3[1])))\n",
    "    #plt.axline((vertex3[0],vertex3[1]),((vertex1[0],vertex1[1])))\n",
    "\n",
    "#plt.imshow(example)\n",
    "plt.show()"
   ]
  },
  {
   "cell_type": "code",
   "execution_count": null,
   "metadata": {},
   "outputs": [],
   "source": [
    " "
   ]
  },
  {
   "cell_type": "code",
   "execution_count": null,
   "metadata": {},
   "outputs": [],
   "source": []
  },
  {
   "cell_type": "code",
   "execution_count": null,
   "metadata": {},
   "outputs": [],
   "source": []
  },
  {
   "cell_type": "code",
   "execution_count": null,
   "metadata": {},
   "outputs": [],
   "source": []
  }
 ],
 "metadata": {
  "kernelspec": {
   "display_name": "Python 3",
   "language": "python",
   "name": "python3"
  },
  "language_info": {
   "codemirror_mode": {
    "name": "ipython",
    "version": 3
   },
   "file_extension": ".py",
   "mimetype": "text/x-python",
   "name": "python",
   "nbconvert_exporter": "python",
   "pygments_lexer": "ipython3",
   "version": "3.8.5"
  }
 },
 "nbformat": 4,
 "nbformat_minor": 5
}
